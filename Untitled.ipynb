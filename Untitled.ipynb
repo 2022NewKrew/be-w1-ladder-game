{
 "cells": [
  {
   "cell_type": "code",
   "execution_count": 14,
   "id": "edfb8046",
   "metadata": {},
   "outputs": [
    {
     "name": "stdout",
     "output_type": "stream",
     "text": [
      "몇 명 뽑으시나요?\n",
      "1\n"
     ]
    }
   ],
   "source": [
    "print(\"몇 명 뽑으시나요?\")\n",
    "n = int(input())"
   ]
  },
  {
   "cell_type": "code",
   "execution_count": 15,
   "id": "e32489c4",
   "metadata": {},
   "outputs": [],
   "source": [
    "users = None\n",
    "with open('user.txt') as userfile:\n",
    "    users = userfile.read().split()\n",
    "# print(users)"
   ]
  },
  {
   "cell_type": "code",
   "execution_count": 16,
   "id": "e99a2910",
   "metadata": {},
   "outputs": [
    {
     "name": "stdout",
     "output_type": "stream",
     "text": [
      "hkion159\n"
     ]
    }
   ],
   "source": [
    "import random\n",
    "random.shuffle(users)\n",
    "winner = users[:n]\n",
    "for u in winner:\n",
    "    print(u)"
   ]
  },
  {
   "cell_type": "code",
   "execution_count": null,
   "id": "8ef49f77",
   "metadata": {},
   "outputs": [],
   "source": []
  }
 ],
 "metadata": {
  "kernelspec": {
   "display_name": "Python 3 (ipykernel)",
   "language": "python",
   "name": "python3"
  },
  "language_info": {
   "codemirror_mode": {
    "name": "ipython",
    "version": 3
   },
   "file_extension": ".py",
   "mimetype": "text/x-python",
   "name": "python",
   "nbconvert_exporter": "python",
   "pygments_lexer": "ipython3",
   "version": "3.8.2"
  }
 },
 "nbformat": 4,
 "nbformat_minor": 5
}
